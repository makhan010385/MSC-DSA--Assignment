{
 "cells": [
  {
   "cell_type": "markdown",
   "metadata": {},
   "source": [
    "# 1.Display “My Name Is James” as “My**Name**Is**James” using output formatting of a print() function"
   ]
  },
  {
   "cell_type": "code",
   "execution_count": 1,
   "metadata": {},
   "outputs": [
    {
     "name": "stdout",
     "output_type": "stream",
     "text": [
      "My**Name**Is**Aayushi\n"
     ]
    }
   ],
   "source": [
    "print('My', 'Name', 'Is', 'Aayushi', sep='**')"
   ]
  },
  {
   "cell_type": "markdown",
   "metadata": {},
   "source": [
    "# 2. WAP that prints all the numbers from 0 to 6 except 3"
   ]
  },
  {
   "cell_type": "code",
   "execution_count": 2,
   "metadata": {},
   "outputs": [
    {
     "name": "stdout",
     "output_type": "stream",
     "text": [
      "0\n",
      "1\n",
      "2\n",
      "4\n",
      "5\n",
      "6\n"
     ]
    }
   ],
   "source": [
    "a=[0,1,2,3,4,5,6]\n",
    "for i in a:\n",
    "    if i==3:\n",
    "       pass  \n",
    "    else:\n",
    "        print(i)\n"
   ]
  },
  {
   "cell_type": "markdown",
   "metadata": {},
   "source": [
    "# 3. (a) Concatenate two list index wise"
   ]
  },
  {
   "cell_type": "code",
   "execution_count": 3,
   "metadata": {},
   "outputs": [
    {
     "name": "stdout",
     "output_type": "stream",
     "text": [
      "I am Pursuing MBA in MSC(DSA)\n"
     ]
    }
   ],
   "source": [
    "#method_1\n",
    "list1 = ['I','Pursuing','i','MSC(DSA)']\n",
    "list2 = [' am', ' MBA','n']\n",
    "print(list1[0] + list2[0], list1[1]+list2[1], list1[2]+list2[2], list1[3], sep=' ')"
   ]
  },
  {
   "cell_type": "code",
   "execution_count": 4,
   "metadata": {},
   "outputs": [
    {
     "name": "stdout",
     "output_type": "stream",
     "text": [
      "I am Pursuing MBAi n"
     ]
    }
   ],
   "source": [
    "#method_2\n",
    "import itertools\n",
    "list1 = ['I',' Pursuing','i','MSC(DSA)']\n",
    "list2 = ['am', 'MBA','n']\n",
    "\n",
    "for i,j in zip(list1,list2):\n",
    "    print(i,j , end='')\n"
   ]
  },
  {
   "cell_type": "markdown",
   "metadata": {},
   "source": [
    "# (b) list one in original order and list2 in reverse order"
   ]
  },
  {
   "cell_type": "code",
   "execution_count": 5,
   "metadata": {},
   "outputs": [
    {
     "name": "stdout",
     "output_type": "stream",
     "text": [
      "new list:  ['I', 'Pursuing', 'i', 'MSC(DSA)', 'n', 'am', 'MBA']\n"
     ]
    }
   ],
   "source": [
    "list1 = ['I','Pursuing','i','MSC(DSA)']\n",
    "list2 = ['am', 'MBA','n']\n",
    "new_list=[]\n",
    "\n",
    "\n",
    "for i in range(len(list1)):\n",
    "    list2.reverse()\n",
    "    new_list.append(list1[i])\n",
    "for i in range(-1,len(list2)-1):\n",
    "    new_list.append(list2[i])\n",
    "    \n",
    "print('new list: ', new_list)"
   ]
  },
  {
   "cell_type": "markdown",
   "metadata": {},
   "source": [
    "# 4.(a) copy element 44 and 55 from the given tuple into a new tuple \n",
    "# Tuple1=(11,22,33,44,55,66,66)"
   ]
  },
  {
   "cell_type": "code",
   "execution_count": 6,
   "metadata": {},
   "outputs": [
    {
     "name": "stdout",
     "output_type": "stream",
     "text": [
      "(44, 55)\n"
     ]
    }
   ],
   "source": [
    "tuple1=(11,22,33,44,55,66,66)\n",
    "tuple2=tuple1[3:5]\n",
    "print(tuple2)"
   ]
  },
  {
   "cell_type": "markdown",
   "metadata": {},
   "source": [
    "# 4. (b)count the no of occurence of item 66 form a above tuple"
   ]
  },
  {
   "cell_type": "code",
   "execution_count": null,
   "metadata": {},
   "outputs": [],
   "source": []
  },
  {
   "cell_type": "markdown",
   "metadata": {},
   "source": [
    "# 5. keys=['one','two','Three], values=[1,2,3]\n",
    "# (a)from above two list convert into a dictionary"
   ]
  },
  {
   "cell_type": "code",
   "execution_count": 7,
   "metadata": {},
   "outputs": [
    {
     "name": "stdout",
     "output_type": "stream",
     "text": [
      "{'One': 1, 'Two': 2, 'Three': 3}\n"
     ]
    }
   ],
   "source": [
    "\n",
    "keys = ['One', 'Two', 'Three']\n",
    "values = [1, 2, 3]\n",
    "dict1=dict(zip(keys, values))\n",
    "print(dict1)\n",
    "\n"
   ]
  },
  {
   "cell_type": "markdown",
   "metadata": {},
   "source": [
    "# 5. (b) check if a value 2 exists in dictinary"
   ]
  },
  {
   "cell_type": "code",
   "execution_count": 8,
   "metadata": {},
   "outputs": [
    {
     "name": "stdout",
     "output_type": "stream",
     "text": [
      "2 is in the dictionery\n"
     ]
    }
   ],
   "source": [
    "if 2 in dict1.values():\n",
    "    print('2 is in the dictionery')\n",
    "else:\n",
    "    print('2 is not in the dictionery')"
   ]
  },
  {
   "cell_type": "code",
   "execution_count": null,
   "metadata": {},
   "outputs": [],
   "source": [
    "\n"
   ]
  }
 ],
 "metadata": {
  "kernelspec": {
   "display_name": "Python 3",
   "language": "python",
   "name": "python3"
  },
  "language_info": {
   "codemirror_mode": {
    "name": "ipython",
    "version": 3
   },
   "file_extension": ".py",
   "mimetype": "text/x-python",
   "name": "python",
   "nbconvert_exporter": "python",
   "pygments_lexer": "ipython3",
   "version": "3.8.5"
  }
 },
 "nbformat": 4,
 "nbformat_minor": 4
}
