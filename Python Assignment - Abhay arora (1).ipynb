{
 "cells": [
  {
   "cell_type": "markdown",
   "id": "15e01748",
   "metadata": {},
   "source": [
    "# Question 1:"
   ]
  },
  {
   "cell_type": "code",
   "execution_count": 4,
   "id": "fccf337b",
   "metadata": {},
   "outputs": [
    {
     "data": {
      "text/plain": [
       "'My name is Abhay.'"
      ]
     },
     "execution_count": 4,
     "metadata": {},
     "output_type": "execute_result"
    }
   ],
   "source": [
    "value1 = \"My name is {}.\"\n",
    "value2 = val1.format('Abhay')\n",
    "value2\n"
   ]
  },
  {
   "cell_type": "markdown",
   "id": "558d57e7",
   "metadata": {},
   "source": [
    "# Question 2:"
   ]
  },
  {
   "cell_type": "code",
   "execution_count": 6,
   "id": "1a54bb50",
   "metadata": {},
   "outputs": [
    {
     "name": "stdout",
     "output_type": "stream",
     "text": [
      "0\n",
      "1\n",
      "2\n",
      "4\n",
      "5\n",
      "6\n",
      "7\n"
     ]
    },
    {
     "data": {
      "text/plain": [
       "5"
      ]
     },
     "execution_count": 6,
     "metadata": {},
     "output_type": "execute_result"
    }
   ],
   "source": [
    "for i in range(8):\n",
    "    if(i==3):\n",
    "        continue\n",
    "    print(i)\n",
    "val"
   ]
  },
  {
   "cell_type": "markdown",
   "id": "df11fa2b",
   "metadata": {},
   "source": [
    "# Question 3:"
   ]
  },
  {
   "cell_type": "code",
   "execution_count": 29,
   "id": "0ba949fd",
   "metadata": {
    "scrolled": true
   },
   "outputs": [
    {
     "name": "stdout",
     "output_type": "stream",
     "text": [
      "['Iam', 'PursuingMBA', 'in']\n"
     ]
    }
   ],
   "source": [
    "list1 = [\"I\",\"Pursuing\",\"i\",\"MSC(DSA)\"]\n",
    "list2 = [\"am\",\"MBA\",\"n\"]\n",
    "\n",
    "new_list = [i + j for i, j in zip(list1,list2)]\n",
    "print(new_list)"
   ]
  },
  {
   "cell_type": "code",
   "execution_count": 38,
   "id": "4a49a6b9",
   "metadata": {},
   "outputs": [
    {
     "name": "stdout",
     "output_type": "stream",
     "text": [
      "I n\n",
      "Pursuing MBA\n",
      "i am\n",
      "\n",
      "\n",
      "Output of method 2:\n",
      "I n\n",
      "Pursuing MBA\n",
      "i am\n"
     ]
    }
   ],
   "source": [
    "# list1 in original order and list2 in reverse order \n",
    "print(\"Output of method 2:\")\n",
    "for i, j in zip(list1, list2[::-1]):\n",
    "    print(i, j) "
   ]
  },
  {
   "cell_type": "markdown",
   "id": "73900d7d",
   "metadata": {},
   "source": [
    "# Question 4:"
   ]
  },
  {
   "cell_type": "code",
   "execution_count": 12,
   "id": "704df338",
   "metadata": {},
   "outputs": [
    {
     "data": {
      "text/plain": [
       "(44, 55)"
      ]
     },
     "execution_count": 12,
     "metadata": {},
     "output_type": "execute_result"
    }
   ],
   "source": [
    "tuple1 = (11,22,33,44,55,66,66)\n",
    "\n",
    "#copy element 44 & 55\n",
    "tuple2 = tuple1[3:5]\n",
    "tuple2"
   ]
  },
  {
   "cell_type": "code",
   "execution_count": 13,
   "id": "613a31b9",
   "metadata": {},
   "outputs": [
    {
     "data": {
      "text/plain": [
       "2"
      ]
     },
     "execution_count": 13,
     "metadata": {},
     "output_type": "execute_result"
    }
   ],
   "source": [
    "#Count the occurence of element 66\n",
    "tuple1.count(66)"
   ]
  },
  {
   "cell_type": "markdown",
   "id": "fc25e7b0",
   "metadata": {},
   "source": [
    "# Question 5:"
   ]
  },
  {
   "cell_type": "code",
   "execution_count": 3,
   "id": "3eb901bf",
   "metadata": {},
   "outputs": [
    {
     "name": "stdout",
     "output_type": "stream",
     "text": [
      "The Final Dictionary is, {'Abhay': 1, 'Ayush': 2, 'Parth': 3}\n"
     ]
    }
   ],
   "source": [
    "listk = [\"Abhay\", \"Ayush\", \"Parth\"]\n",
    "listv = [1,2,3]\n",
    "\n",
    "res_dict = {}\n",
    "for key in listk:\n",
    "    for value in listv:\n",
    "        res_dict[key]=value\n",
    "        listv.remove(value)\n",
    "        break\n",
    "\n",
    "print(\"The Final Dictionary is, \" + str(res_dict))"
   ]
  },
  {
   "cell_type": "code",
   "execution_count": 7,
   "id": "0c39c4e9",
   "metadata": {
    "scrolled": false
   },
   "outputs": [
    {
     "name": "stdout",
     "output_type": "stream",
     "text": [
      "True\n"
     ]
    }
   ],
   "source": [
    "print(2 in res_dict.values())"
   ]
  }
 ],
 "metadata": {
  "kernelspec": {
   "display_name": "Python 3 (ipykernel)",
   "language": "python",
   "name": "python3"
  },
  "language_info": {
   "codemirror_mode": {
    "name": "ipython",
    "version": 3
   },
   "file_extension": ".py",
   "mimetype": "text/x-python",
   "name": "python",
   "nbconvert_exporter": "python",
   "pygments_lexer": "ipython3",
   "version": "3.9.7"
  }
 },
 "nbformat": 4,
 "nbformat_minor": 5
}
