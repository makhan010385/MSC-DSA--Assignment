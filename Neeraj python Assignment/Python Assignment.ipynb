{
 "cells": [
  {
   "cell_type": "markdown",
   "id": "0e71c160",
   "metadata": {},
   "source": [
    "##   ASSIGNMENT ON TUPLE   ##"
   ]
  },
  {
   "cell_type": "markdown",
   "id": "bfc1c13b",
   "metadata": {},
   "source": [
    "# Q.1 Write a Python program to get the 4th element and 4th element from last of a tuple form below tuple?\n",
    "\n",
    "# First python program to get the 4th element."
   ]
  },
  {
   "cell_type": "code",
   "execution_count": 2,
   "id": "814f270d",
   "metadata": {},
   "outputs": [
    {
     "name": "stdout",
     "output_type": "stream",
     "text": [
      "e\n"
     ]
    }
   ],
   "source": [
    "tuplex = (\"w\", 3, \"r\", \"e\", \"s\", \"o\", \"u\", \"r\", \"c\", \"e\")\n",
    "print(tuplex[3])"
   ]
  },
  {
   "cell_type": "markdown",
   "id": "a4ad445c",
   "metadata": {},
   "source": [
    "## second python program to get the 4th element from the last."
   ]
  },
  {
   "cell_type": "code",
   "execution_count": 3,
   "id": "e33a96a7",
   "metadata": {},
   "outputs": [
    {
     "name": "stdout",
     "output_type": "stream",
     "text": [
      "u\n"
     ]
    }
   ],
   "source": [
    "tuplex = (\"w\", 3, \"r\", \"e\", \"s\", \"o\", \"u\", \"r\", \"c\", \"e\")\n",
    "print(tuplex[-4])"
   ]
  },
  {
   "cell_type": "markdown",
   "id": "1b313942",
   "metadata": {},
   "source": [
    "## Q.2 Write a Python program to convert a list to a tuple?"
   ]
  },
  {
   "cell_type": "code",
   "execution_count": 4,
   "id": "83c1ff59",
   "metadata": {},
   "outputs": [
    {
     "name": "stdout",
     "output_type": "stream",
     "text": [
      "(5, 10, 7, 4, 15, 3)\n"
     ]
    }
   ],
   "source": [
    "listx = [5, 10, 7, 4, 15, 3]\n",
    "print(tuple(listx))"
   ]
  },
  {
   "cell_type": "markdown",
   "id": "34fc806b",
   "metadata": {},
   "source": [
    "## Q.3 Write a program to unpack the following tuple into four variables and display each variable?# "
   ]
  },
  {
   "cell_type": "code",
   "execution_count": 7,
   "id": "b4a8daa8",
   "metadata": {},
   "outputs": [
    {
     "name": "stdout",
     "output_type": "stream",
     "text": [
      "10\n",
      "20\n",
      "30\n",
      "40\n"
     ]
    }
   ],
   "source": [
    "tuple1 = (10, 20, 30, 40)\n",
    "(p, q, r, s) = tuple1\n",
    "print(p)\n",
    "print(q)\n",
    "print(r)\n",
    "print(s)"
   ]
  },
  {
   "cell_type": "markdown",
   "id": "b8d51b9c",
   "metadata": {},
   "source": [
    "# Q.4 Write a program to Swap two tuples in Python? # "
   ]
  },
  {
   "cell_type": "code",
   "execution_count": 8,
   "id": "8d4e6b37",
   "metadata": {},
   "outputs": [
    {
     "name": "stdout",
     "output_type": "stream",
     "text": [
      "(99, 88) (11, 22)\n"
     ]
    }
   ],
   "source": [
    "tuple1 = (11, 22)\n",
    "tuple2 = (99, 88)\n",
    "tuple1, tuple2 = tuple2, tuple1\n",
    "print(tuple1, tuple2)"
   ]
  },
  {
   "cell_type": "markdown",
   "id": "492b3bac",
   "metadata": {},
   "source": [
    "## Q.5 Write a program to copy elements 40 and 50 from the following tuple into a new tuple?"
   ]
  },
  {
   "cell_type": "code",
   "execution_count": 5,
   "id": "7575323f",
   "metadata": {},
   "outputs": [
    {
     "name": "stdout",
     "output_type": "stream",
     "text": [
      "(40, 50)\n",
      "<class 'tuple'>\n"
     ]
    }
   ],
   "source": [
    "tuple1 = (10, 20, 30, 40, 50, 60)\n",
    "tuple2 = tuple1[3:5]\n",
    "print(tuple2)\n",
    "print(type(tuple2))"
   ]
  },
  {
   "cell_type": "markdown",
   "id": "3ae600df",
   "metadata": {},
   "source": [
    "## Q.6 Write a python program to Counts the number of occurrences of item 50 from a tuple?"
   ]
  },
  {
   "cell_type": "code",
   "execution_count": 15,
   "id": "9c3ad7dc",
   "metadata": {},
   "outputs": [
    {
     "name": "stdout",
     "output_type": "stream",
     "text": [
      "2\n"
     ]
    }
   ],
   "source": [
    "tuple1 = (50, 10, 60, 70, 50)\n",
    "a = tuple1.count(50)\n",
    "print(a)"
   ]
  },
  {
   "cell_type": "code",
   "execution_count": null,
   "id": "75b29637",
   "metadata": {},
   "outputs": [],
   "source": []
  }
 ],
 "metadata": {
  "kernelspec": {
   "display_name": "Python 3 (ipykernel)",
   "language": "python",
   "name": "python3"
  },
  "language_info": {
   "codemirror_mode": {
    "name": "ipython",
    "version": 3
   },
   "file_extension": ".py",
   "mimetype": "text/x-python",
   "name": "python",
   "nbconvert_exporter": "python",
   "pygments_lexer": "ipython3",
   "version": "3.9.7"
  }
 },
 "nbformat": 4,
 "nbformat_minor": 5
}
