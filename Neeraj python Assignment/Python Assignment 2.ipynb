{
 "cells": [
  {
   "cell_type": "markdown",
   "id": "6505b968",
   "metadata": {},
   "source": [
    "# Ques-1 :- Display “My Name Is James” as “My ** Name ** Is ** James” using output formatting of a print() function"
   ]
  },
  {
   "cell_type": "code",
   "execution_count": 3,
   "id": "c4269b75",
   "metadata": {},
   "outputs": [
    {
     "name": "stdout",
     "output_type": "stream",
     "text": [
      "My name is Neeraj\n"
     ]
    }
   ],
   "source": [
    "str= \"My name is {}\"\n",
    "print(str.format(\"Neeraj\"))"
   ]
  },
  {
   "cell_type": "markdown",
   "id": "2531a97b",
   "metadata": {},
   "source": [
    "# Ques-2 :- Write a Python program that prints all the numbers from 0 to 6 except 3 ."
   ]
  },
  {
   "cell_type": "code",
   "execution_count": 7,
   "id": "ad42e7bd",
   "metadata": {},
   "outputs": [
    {
     "name": "stdout",
     "output_type": "stream",
     "text": [
      "0\n",
      "1\n",
      "2\n",
      "4\n",
      "5\n",
      "6\n"
     ]
    }
   ],
   "source": [
    "for i in range(7):             # For loop is iterating to print series\n",
    "  if i == 3:\n",
    "    continue                      \n",
    "  print(i)"
   ]
  },
  {
   "cell_type": "markdown",
   "id": "1b0d61d8",
   "metadata": {},
   "source": [
    "# Ques-3 :- Concatenate two lists index-wise"
   ]
  },
  {
   "cell_type": "markdown",
   "id": "ad411f62",
   "metadata": {},
   "source": [
    "# Importing the library itertools"
   ]
  },
  {
   "cell_type": "code",
   "execution_count": 8,
   "id": "ad7c73ab",
   "metadata": {},
   "outputs": [],
   "source": [
    "import itertools"
   ]
  },
  {
   "cell_type": "code",
   "execution_count": 10,
   "id": "7db716c3",
   "metadata": {},
   "outputs": [
    {
     "name": "stdout",
     "output_type": "stream",
     "text": [
      "I  am\n",
      "Pursuing MBA\n",
      "i n\n",
      "MSC(DSA) .\n"
     ]
    }
   ],
   "source": [
    "list1 = [\"I \",\"Pursuing\",\"i\",\"MSC(DSA)\"]  \n",
    "list2 = [\"am\", \"MBA\", \"n\"] #Here list1 and list2 are the given list and list are mutable and ordered....\n",
    "\n",
    "for x, y in itertools.zip_longest(list1, list2 , fillvalue='.'):\n",
    "    print(x,y)"
   ]
  },
  {
   "cell_type": "markdown",
   "id": "96a51ddb",
   "metadata": {},
   "source": [
    "# Ques-4 :- Iterate both lists simultaneously such that list1 should display item in original order and list2 in reverse order."
   ]
  },
  {
   "cell_type": "code",
   "execution_count": 11,
   "id": "a3b82acc",
   "metadata": {},
   "outputs": [
    {
     "name": "stdout",
     "output_type": "stream",
     "text": [
      "New Concatenated list :- ['I ', 'Pursuing', 'i', 'MSC(DSA)', 'n', 'MBA', 'am']\n"
     ]
    }
   ],
   "source": [
    "list1 = [\"I \",\"Pursuing\",\"i\",\"MSC(DSA)\"]  \n",
    "list2 = [\"am\", \"MBA\", \"n\"]                 #Here list1 and list2 are the list and list are mutable and ordered...\n",
    "new_list = []\n",
    "\n",
    "for i in range(0 , len(list1) , 1):\n",
    "  new_list.append(list1[i])\n",
    "\n",
    "for i in range(-1 , -len(list2)-1 , -1):\n",
    "  new_list.append(list2[i])\n",
    "\n",
    "print(\"New Concatenated list :-\",new_list) "
   ]
  },
  {
   "cell_type": "markdown",
   "id": "084a9eb6",
   "metadata": {},
   "source": [
    "# Ques-5 :- Copy element 44 and 55 from the above tuple into a new tuple ."
   ]
  },
  {
   "cell_type": "code",
   "execution_count": 12,
   "id": "52e0b861",
   "metadata": {},
   "outputs": [],
   "source": [
    "tuple1 = (11, 22, 33, 44 , 55, 66,66)\n",
    "\n",
    "#Here tuple1 is a variable taking tuple as variable and Tuple are immutable but ordered.."
   ]
  },
  {
   "cell_type": "code",
   "execution_count": 14,
   "id": "66df98b7",
   "metadata": {},
   "outputs": [
    {
     "name": "stdout",
     "output_type": "stream",
     "text": [
      "New tuple after copying element 44 and 55 :- (44, 55)\n"
     ]
    }
   ],
   "source": [
    "new_list = [x for x in tuple1 if ((x == 44) or (x == 55))]    \n",
    "new_tuple = tuple(new_list)                                        \n",
    "print(\"New tuple after copying element 44 and 55 :-\",new_tuple)"
   ]
  },
  {
   "cell_type": "markdown",
   "id": "295278b3",
   "metadata": {},
   "source": [
    "# Ques-6 :- Counts the number of occurrences of item 66 from a given tuple."
   ]
  },
  {
   "cell_type": "code",
   "execution_count": 17,
   "id": "311ab010",
   "metadata": {},
   "outputs": [],
   "source": [
    "given_tuple = (11, 22, 33, 44 , 55, 66,66)"
   ]
  },
  {
   "cell_type": "code",
   "execution_count": 19,
   "id": "857dd5b9",
   "metadata": {},
   "outputs": [
    {
     "name": "stdout",
     "output_type": "stream",
     "text": [
      "count of 66 is :  2\n"
     ]
    }
   ],
   "source": [
    "print(\"count of 66 is : \", given_tuple.count(66))"
   ]
  },
  {
   "cell_type": "markdown",
   "id": "bb8e2f2a",
   "metadata": {},
   "source": [
    "# Ques-7 :- From given two lists convert it into the dictionary"
   ]
  },
  {
   "cell_type": "code",
   "execution_count": 40,
   "id": "ee0e54e5",
   "metadata": {
    "scrolled": true
   },
   "outputs": [
    {
     "name": "stdout",
     "output_type": "stream",
     "text": [
      "the dictionary is : {'One': 1, 'Two': 2, 'Three': 3}\n"
     ]
    }
   ],
   "source": [
    "keys = ['One', 'Two', 'Three']\n",
    "values = [1, 2, 3]\n",
    "\n",
    "dics = {keys[i]:values[i] for i in range(3)}\n",
    "print('the dictionary is :',dics)"
   ]
  },
  {
   "cell_type": "markdown",
   "id": "fa36674d",
   "metadata": {},
   "source": [
    "# Ques-8 :- Check if a value 2 exists in a dictionary."
   ]
  },
  {
   "cell_type": "code",
   "execution_count": 41,
   "id": "8f93e3df",
   "metadata": {},
   "outputs": [
    {
     "name": "stdout",
     "output_type": "stream",
     "text": [
      "Does 2 exists in dics : True\n"
     ]
    }
   ],
   "source": [
    "keys = ['One', 'Two', 'Three']\n",
    "values = [1, 2, 3]\n",
    "\n",
    "print('Does 2 exists in dics :',2 in dics.values())"
   ]
  },
  {
   "cell_type": "code",
   "execution_count": null,
   "id": "18520bab",
   "metadata": {},
   "outputs": [],
   "source": []
  }
 ],
 "metadata": {
  "kernelspec": {
   "display_name": "Python 3 (ipykernel)",
   "language": "python",
   "name": "python3"
  },
  "language_info": {
   "codemirror_mode": {
    "name": "ipython",
    "version": 3
   },
   "file_extension": ".py",
   "mimetype": "text/x-python",
   "name": "python",
   "nbconvert_exporter": "python",
   "pygments_lexer": "ipython3",
   "version": "3.9.7"
  }
 },
 "nbformat": 4,
 "nbformat_minor": 5
}
