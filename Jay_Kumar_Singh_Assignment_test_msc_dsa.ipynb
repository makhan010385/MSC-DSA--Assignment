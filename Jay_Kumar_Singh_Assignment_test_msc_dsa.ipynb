{
 "cells": [
  {
   "cell_type": "code",
   "execution_count": 1,
   "id": "f11edef8",
   "metadata": {},
   "outputs": [
    {
     "name": "stdout",
     "output_type": "stream",
     "text": [
      "JAY KUMAR SINGH (Roll No. - DS5B-15)/ M.Sc. DSA 1st Sem./- ASSIGNMENT 1 - PYTHON \n"
     ]
    }
   ],
   "source": [
    "print(\"JAY KUMAR SINGH (Roll No. - DS5B-15)/ M.Sc. DSA 1st Sem./- ASSIGNMENT 1 - PYTHON \")\n"
   ]
  },
  {
   "cell_type": "code",
   "execution_count": 2,
   "id": "edcecac6",
   "metadata": {},
   "outputs": [
    {
     "name": "stdout",
     "output_type": "stream",
     "text": [
      "Solution Q1(i)-\n",
      "My**Name**Is**Jay\n"
     ]
    }
   ],
   "source": [
    "# Q.1 Explain the following questions\n",
    "# (i) Display “My Name Is James” as “My**Name**Is**James” using output formatting of a print() function.\n",
    "#Solution 1(i) -\n",
    "print('Solution Q1(i)-')\n",
    "print(\"My\",\"Name\",\"Is\",\"Jay\",sep=\"**\")\n"
   ]
  },
  {
   "cell_type": "code",
   "execution_count": 3,
   "id": "b18434ae",
   "metadata": {},
   "outputs": [
    {
     "name": "stdout",
     "output_type": "stream",
     "text": [
      "solution Q1 (ii)- \n",
      "local variable 'y' = 2\n",
      "global variable * local variable * global variable(inside func) = 126\n",
      "global variable 'z' (defined inside func): 7\n",
      "global variable 'x' (defined outside func): 9\n"
     ]
    }
   ],
   "source": [
    "## Q1(ii) define the local and global variables in Python?\n",
    "#solution -- \n",
    "\n",
    "print(\"solution Q1 (ii)- \")\n",
    "# global variable -- here x behaves as a global variable (defined outside the function)\n",
    "x = 9\n",
    "\n",
    "def func():\n",
    "    global z    # z becomes a global variable \n",
    "    z = 7\n",
    "    y = 2      # y is a local variable defined inside a function\n",
    "    print(\"local variable 'y' =\",y)    # y gets printed as it is inside the function\n",
    "    print(\"global variable * local variable * global variable(inside func) =\",x*y*z)\n",
    "    \n",
    "        \n",
    "func()\n",
    "print(\"global variable 'z' (defined inside func):\",z) # will get printed as it is a gloal variable \n",
    "\n",
    "print(\"global variable 'x' (defined outside func):\",x) # will get printed as it is a gloal variable \n",
    "\n",
    "\n",
    "# print(y) # won't print coz not a global variable - should raise an error\n",
    "        \n"
   ]
  },
  {
   "cell_type": "code",
   "execution_count": 4,
   "id": "4cfd73f6",
   "metadata": {},
   "outputs": [
    {
     "name": "stdout",
     "output_type": "stream",
     "text": [
      "Solution Q2-\n",
      "0\n",
      "1\n",
      "2\n",
      "4\n",
      "5\n",
      "6\n"
     ]
    }
   ],
   "source": [
    "# Q.2 Write a Python program that prints all the numbers from 0 to 6 except 3 .\n",
    "\n",
    "\n",
    "print('Solution Q2-')\n",
    "for i in range(7):\n",
    "    if(i == 3):\n",
    "        continue\n",
    "    print(i)\n",
    "    \n"
   ]
  },
  {
   "cell_type": "code",
   "execution_count": 5,
   "id": "0167e794",
   "metadata": {},
   "outputs": [
    {
     "name": "stdout",
     "output_type": "stream",
     "text": [
      "Solution Q3 (i)-\n",
      "concated list is: ['I am', 'Pursuing MBA', 'in', 'MSC(DSA)']\n",
      "Solution Q3(ii)-\n",
      "list1 in the given order & list2 in reverse order: ['I ', 'Pursuing', 'i', 'MSC'] ['(DSA)', 'n', ' MBA', 'am']\n"
     ]
    }
   ],
   "source": [
    "# Q.3 list1 = [\"I \",\"Pursuing\",\"i\",\"MSC(DSA)\"]\n",
    "# list2 = [\"am\", \"MBA”, “n\"]\n",
    "# from above list provide the following solution\n",
    "# (i) Concatenate two lists index-wise\n",
    "#(ii) Iterate both lists simultaneously such that list1 should display item in original order and list2 in reverse order.\n",
    "\n",
    "\n",
    "\n",
    "print(\"Solution Q3 (i)-\")\n",
    "list1 = ['I ',\"Pursuing\",\"i\",\"MSC\"]\n",
    "list2 = ['am',\" MBA\",\"n\",\"(DSA)\"]\n",
    "\n",
    "list3 = list(list1[i] + list2[i] for i in range(4))\n",
    "print('concated list is:',list3)\n",
    "\n",
    "print('Solution Q3(ii)-')\n",
    "list2.reverse()\n",
    "print(\"list1 in the given order & list2 in reverse order:\",list1,list2)\n"
   ]
  },
  {
   "cell_type": "code",
   "execution_count": 6,
   "id": "cdfa16b2",
   "metadata": {},
   "outputs": [
    {
     "name": "stdout",
     "output_type": "stream",
     "text": [
      "Solution Q4(i)-\n",
      "type of tup2: <class 'tuple'>\n",
      "the required tuple is : (44, 55)\n",
      "Solution Q4(ii)-\n",
      "the count of 66 is: 2\n"
     ]
    }
   ],
   "source": [
    "#Q.4 tuple1 = (11, 22, 33, 44, 55, 66,66)\n",
    "#(i) Copy element 44 and 55 from the above tuple into a new tuple .\n",
    "#(ii) Counts the number of occurrences of item 66 from a above tuple.\n",
    "\n",
    "\n",
    "print(\"Solution Q4(i)-\")\n",
    "      \n",
    "tuple1 = (11, 22, 33, 44, 55, 66,66)\n",
    "tup2 =tuple1[3],tuple1[4]\n",
    "print(\"type of tup2:\",type(tup2))\n",
    "print('the required tuple is :',tup2)\n",
    "\n",
    "      \n",
    "      \n",
    "print('Solution Q4(ii)-')\n",
    "n =tuple1.count(66)\n",
    "print(\"the count of 66 is:\",n)\n"
   ]
  },
  {
   "cell_type": "code",
   "execution_count": 7,
   "id": "29fec6d2",
   "metadata": {},
   "outputs": [
    {
     "name": "stdout",
     "output_type": "stream",
     "text": [
      "Solution Q5 (i)-\n",
      "the dictionary is : {'One': 1, 'Two': 2, 'Three': 3}\n",
      "Solution Q5(ii)-\n",
      "Does 2 exists in dics : True\n"
     ]
    }
   ],
   "source": [
    "#Q.5 keys = ['One', 'Two', 'Three'] values = [1, 2, 3]\n",
    "#(i) from above two lists convert it into the dictionary.\n",
    "#(ii) Check if a value 2 exists in a dictionary\n",
    "\n",
    "\n",
    "print(\"Solution Q5 (i)-\")\n",
    "keys = ['One', 'Two', 'Three']\n",
    "values = [1, 2, 3 ]\n",
    "dics = {keys[i]:values[i] for i in range(3)}\n",
    "print('the dictionary is :',dics)\n",
    "print('Solution Q5(ii)-')\n",
    "print('Does 2 exists in dics :',2 in dics.values())\n",
    "\n",
    "\n"
   ]
  },
  {
   "cell_type": "code",
   "execution_count": null,
   "id": "b4a70ebe",
   "metadata": {},
   "outputs": [],
   "source": []
  }
 ],
 "metadata": {
  "kernelspec": {
   "display_name": "Python 3 (ipykernel)",
   "language": "python",
   "name": "python3"
  },
  "language_info": {
   "codemirror_mode": {
    "name": "ipython",
    "version": 3
   },
   "file_extension": ".py",
   "mimetype": "text/x-python",
   "name": "python",
   "nbconvert_exporter": "python",
   "pygments_lexer": "ipython3",
   "version": "3.9.12"
  }
 },
 "nbformat": 4,
 "nbformat_minor": 5
}
