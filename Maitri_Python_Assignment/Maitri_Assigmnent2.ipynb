{
 "cells": [
  {
   "cell_type": "markdown",
   "id": "e317210f",
   "metadata": {},
   "source": [
    "# Question 1:(a) Display \"My Name Is James \" as \"My***Name***Is***James using Output Format print() Function\n"
   ]
  },
  {
   "cell_type": "code",
   "execution_count": 1,
   "id": "c46e83a7",
   "metadata": {},
   "outputs": [
    {
     "name": "stdout",
     "output_type": "stream",
     "text": [
      "my***name***is***james\n",
      "My*Name*is*james\n"
     ]
    }
   ],
   "source": [
    "\n",
    "star=\"***\"\n",
    "name=\"my{0}name{0}is{0}james\"\n",
    "print(name.format(star))\n",
    "#OR\n",
    "print(\"My\",\"Name\",\"is\",\"james\",sep=\"*\")\n"
   ]
  },
  {
   "cell_type": "markdown",
   "id": "32994031",
   "metadata": {},
   "source": [
    "# Question no 2:Write a program that print all the numbers from 0 to 6 except 3"
   ]
  },
  {
   "cell_type": "code",
   "execution_count": 2,
   "id": "922ce95a",
   "metadata": {},
   "outputs": [
    {
     "name": "stdout",
     "output_type": "stream",
     "text": [
      " number from 0 to 6 except 3:\n",
      "  0\n",
      "  1\n",
      "  2\n",
      "  4\n",
      "  5\n",
      "  6\n"
     ]
    }
   ],
   "source": [
    "\n",
    "print(\" number from 0 to 6 except 3:\")\n",
    "for i in range(0,7):\n",
    "    if i == 3:\n",
    "        continue\n",
    "    \n",
    "    print(\" \", i)\n"
   ]
  },
  {
   "cell_type": "markdown",
   "id": "258d636b",
   "metadata": {},
   "source": [
    "# Question 3 (a): concatenate two list index wise"
   ]
  },
  {
   "cell_type": "code",
   "execution_count": 3,
   "id": "37eea597",
   "metadata": {},
   "outputs": [
    {
     "name": "stdout",
     "output_type": "stream",
     "text": [
      "[' Iam', 'pursuingMBA', 'in']\n"
     ]
    }
   ],
   "source": [
    "#Question 3 (a): concatenate two list index wise\n",
    "list1=[\" I\",\"pursuing\",\"i\",\" MSC(DSA)\"]\n",
    "list2=[\"am\",\"MBA\",\"n\"]\n",
    "new_list=[i+j for i,j in zip(list1,list2)]\n",
    "print(new_list)\n",
    "\n",
    "\n"
   ]
  },
  {
   "cell_type": "markdown",
   "id": "ec413ace",
   "metadata": {},
   "source": [
    "# (b) list one in original order and list2 in reverse order"
   ]
  },
  {
   "cell_type": "code",
   "execution_count": 4,
   "id": "71e3ad75",
   "metadata": {
    "scrolled": true
   },
   "outputs": [
    {
     "name": "stdout",
     "output_type": "stream",
     "text": [
      " I n\n",
      "pursuing MBA\n",
      "i am\n"
     ]
    }
   ],
   "source": [
    "#(b) list one in original order and list2 in reverse order\n",
    "for (i,j) in zip(list1,reversed(list2)):\n",
    "    print(i,j)"
   ]
  },
  {
   "cell_type": "markdown",
   "id": "7d222a34",
   "metadata": {},
   "source": [
    "# Question 4: Tuple1=(11,22,33,44,55,66,66)\n",
    "#(a) copy element 44 and 55 from the above tuple into a new tuple"
   ]
  },
  {
   "cell_type": "code",
   "execution_count": 5,
   "id": "25520d13",
   "metadata": {},
   "outputs": [
    {
     "name": "stdout",
     "output_type": "stream",
     "text": [
      "New Tuple: (44, 55)\n"
     ]
    }
   ],
   "source": [
    "#Question 4: Tuple1=(11,22,33,44,55,66,66)\n",
    "#(a) copy element 44 and 55 from the above tuple into a new tuple\n",
    "Tuple1=(11,22,33,44,55,66,66)\n",
    "if 44 and 55 in Tuple1:\n",
    "    New_Tuple=(44,55)\n",
    "    print(\"New Tuple:\",New_Tuple)\n",
    "    \n",
    "\n",
    "\n"
   ]
  },
  {
   "cell_type": "markdown",
   "id": "2eccacab",
   "metadata": {},
   "source": [
    "# Question 4:(b)count the no of occurence of item  66 form a above tuple"
   ]
  },
  {
   "cell_type": "code",
   "execution_count": 6,
   "id": "3553262b",
   "metadata": {},
   "outputs": [
    {
     "name": "stdout",
     "output_type": "stream",
     "text": [
      "count: 2\n"
     ]
    }
   ],
   "source": [
    "#Question 4:(b)count the no of occurence of item  66 form a above tuple\n",
    "Tuple1=(11,22,33,44,55,66,66)\n",
    "x=Tuple1.count(66)\n",
    "print(\"count:\",x)"
   ]
  },
  {
   "cell_type": "markdown",
   "id": "abed2d3d",
   "metadata": {},
   "source": [
    "# "
   ]
  },
  {
   "cell_type": "markdown",
   "id": "cd240a8c",
   "metadata": {},
   "source": [
    "# Question 5:keys=['one','two','Three], values=[1,2,3]\n",
    "#(a)from above two list convert into a dictionary"
   ]
  },
  {
   "cell_type": "code",
   "execution_count": 7,
   "id": "52e2ab0f",
   "metadata": {},
   "outputs": [
    {
     "name": "stdout",
     "output_type": "stream",
     "text": [
      "resultant dictionary is:{'one': 1, 'two': 2, 'Three': 3}\n"
     ]
    }
   ],
   "source": [
    "#Question 5:keys=['one','two','Three], values=[1,2,3]\n",
    "#(a)from above two list convert into a dictionary\n",
    "keys=['one','two','Three'] \n",
    "values=[1,2,3]\n",
    "res_dict={}\n",
    "for key in keys:\n",
    "      for value in values:\n",
    "           res_dict[key]=value\n",
    "           values.remove(value)\n",
    "           break\n",
    "print(\"resultant dictionary is:\" +str(res_dict))\n",
    "\n"
   ]
  },
  {
   "cell_type": "code",
   "execution_count": 8,
   "id": "6bcf5661",
   "metadata": {},
   "outputs": [
    {
     "name": "stdout",
     "output_type": "stream",
     "text": [
      "{'one': 1, 'two': 2, 'Three': 3}\n"
     ]
    }
   ],
   "source": [
    "keys=['one','two','Three'] # notice that both list have same number of values otherwise zip funtion will fail\n",
    "values=[1,2,3]\n",
    "\n",
    "d=dict(zip(keys,values))\n",
    "print(d)"
   ]
  },
  {
   "cell_type": "markdown",
   "id": "2929947a",
   "metadata": {},
   "source": [
    "# (b)check if a value 2 exists in dictinary"
   ]
  },
  {
   "cell_type": "code",
   "execution_count": 9,
   "id": "b7739c88",
   "metadata": {},
   "outputs": [
    {
     "name": "stdout",
     "output_type": "stream",
     "text": [
      "the value 2 is found\n"
     ]
    }
   ],
   "source": [
    "#(b)check if a value 2 exists in dictinary\n",
    "Dict=res_dict\n",
    "values=Dict.values()\n",
    "List=list(values)\n",
    "if 2 in List:\n",
    "    print(\"the value 2 is found\")\n",
    "else:\n",
    "    print(\" the value 2 is not found\")\n",
    "\n",
    "    "
   ]
  },
  {
   "cell_type": "markdown",
   "id": "9c4a171a",
   "metadata": {},
   "source": []
  },
  {
   "cell_type": "code",
   "execution_count": 10,
   "id": "528c4cf1",
   "metadata": {},
   "outputs": [
    {
     "name": "stdout",
     "output_type": "stream",
     "text": [
      "[(' I', 'am'), ('pursuing', 'MBA'), ('i', 'n')]\n"
     ]
    }
   ],
   "source": [
    "list1=[\" I\",\"pursuing\",\"i\",\" MSC(DSA)\"]\n",
    "list2=[\"am\",\"MBA\",\"n\"]\n",
    "l=list(zip(list1,list2))\n",
    "print(l)\n",
    "    "
   ]
  },
  {
   "cell_type": "code",
   "execution_count": null,
   "id": "4bfa7eb0",
   "metadata": {},
   "outputs": [],
   "source": []
  }
 ],
 "metadata": {
  "kernelspec": {
   "display_name": "Python 3 (ipykernel)",
   "language": "python",
   "name": "python3"
  },
  "language_info": {
   "codemirror_mode": {
    "name": "ipython",
    "version": 3
   },
   "file_extension": ".py",
   "mimetype": "text/x-python",
   "name": "python",
   "nbconvert_exporter": "python",
   "pygments_lexer": "ipython3",
   "version": "3.9.7"
  }
 },
 "nbformat": 4,
 "nbformat_minor": 5
}
