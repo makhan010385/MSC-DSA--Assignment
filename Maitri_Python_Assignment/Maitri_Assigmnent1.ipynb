{
 "cells": [
  {
   "cell_type": "code",
   "execution_count": 4,
   "id": "bc7ee05e",
   "metadata": {},
   "outputs": [
    {
     "name": "stdout",
     "output_type": "stream",
     "text": [
      " 4th element from first: e\n",
      "4th element from last: u\n"
     ]
    }
   ],
   "source": [
    "# ASSIGNMENT:1\n",
    "# Question 1: Write a python program  to get the fourth element   and fourth element from the last of a tuple form below tuple\n",
    "# Given_tuple=(\"w\",3,\"r\",\"e\",\"s\",\"o\",\"u\",\"r\",\"c\",\"e\")\n",
    "# solution:\n",
    "Given_tuple=(\"w\",3,\"r\",\"e\",\"s\",\"o\",\"u\",\"r\",\"c\",\"e\")\n",
    "print(\" 4th element from first:\", Given_tuple[3])\n",
    "print(\"4th element from last:\", Given_tuple[-4])# by negative indexing\n",
    "\n"
   ]
  },
  {
   "cell_type": "code",
   "execution_count": 6,
   "id": "1525abfe",
   "metadata": {},
   "outputs": [
    {
     "name": "stdout",
     "output_type": "stream",
     "text": [
      "Tuple: (5, 10, 7, 4, 15, 3)\n"
     ]
    }
   ],
   "source": [
    "# Question 2:Write a python program to convert a list into a tuple\n",
    "# Given_List=[5,10,7,4,15,3]\n",
    "# solution:\n",
    "Given_List=[5,10,7,4,15,3]\n",
    "Convert_List_To_Tuple=tuple(Given_List)\n",
    "print(\"Tuple:\",Convert_List_To_Tuple)\n",
    "\n"
   ]
  },
  {
   "cell_type": "code",
   "execution_count": 9,
   "id": "49e91ad6",
   "metadata": {},
   "outputs": [
    {
     "name": "stdout",
     "output_type": "stream",
     "text": [
      "M: 10\n",
      "A: 20\n",
      "I: 30\n",
      "T: 40\n"
     ]
    }
   ],
   "source": [
    "# Question 3:Write a program to unpack a following tuple into four variable\n",
    "#Given_Tuple=(10,20,30,40)\n",
    "#solution:\n",
    "Given_Tuple=(10,20,30,40)\n",
    "(M,A,I,T)=Given_Tuple\n",
    "\n",
    "print(\"M:\",M)\n",
    "print(\"A:\",A)\n",
    "print(\"I:\",I)\n",
    "print(\"T:\",T)\n"
   ]
  },
  {
   "cell_type": "code",
   "execution_count": 13,
   "id": "042613dd",
   "metadata": {},
   "outputs": [
    {
     "name": "stdout",
     "output_type": "stream",
     "text": [
      "before swapping\n",
      " Tuple1 (11, 22)\n",
      "Tuple2 (99, 88)\n",
      "After swapping\n",
      "tuple1: (99, 88)\n",
      "tuple2: (11, 22)\n"
     ]
    }
   ],
   "source": [
    "#Question 4: Write  a program to swap two tuples in python\n",
    "# Tuple1=(11,22)\n",
    "# Tuple2=(99,88)\n",
    "#solution:\n",
    "Tuple1=(11,22)\n",
    "Tuple2=(99,88)\n",
    "print(\"before swapping\")\n",
    "print(\" Tuple1\",Tuple1)\n",
    "print(\"Tuple2\",Tuple2)\n",
    "Tuple1,Tuple2=Tuple2,Tuple1\n",
    "print(\"After swapping\")\n",
    "print(\"tuple1:\",Tuple1)\n",
    "print(\"tuple2:\",Tuple2)\n"
   ]
  },
  {
   "cell_type": "code",
   "execution_count": 16,
   "id": "225010b1",
   "metadata": {},
   "outputs": [
    {
     "name": "stdout",
     "output_type": "stream",
     "text": [
      " New Tuple: (40, 50)\n"
     ]
    }
   ],
   "source": [
    "#Question 5: Write a program to copy elements 40 and 50 from the following tuple into table\n",
    "# Given_Tuple=(10,20,30,40,50,60)\n",
    "#Solution:\n",
    "Given_Tuple=(10,20,30,40,50,60)\n",
    "if 40 and 50 in Given_Tuple:\n",
    "    New_Tuple=(40,50)\n",
    "    print(\" New Tuple:\",New_Tuple)"
   ]
  },
  {
   "cell_type": "code",
   "execution_count": 17,
   "id": "8f9ccba4",
   "metadata": {},
   "outputs": [
    {
     "name": "stdout",
     "output_type": "stream",
     "text": [
      " count 50: 2\n"
     ]
    }
   ],
   "source": [
    "#Question 6:Write a program to count the number of occurences of item 50 from a Tuple\n",
    "# Given_tuple=(50,10,60,70,50)\n",
    "#Solution:\n",
    "Given_tuple=(50,10,60,70,50)\n",
    "x=Given_tuple.count(50)\n",
    "print( \" count 50:\",x)\n"
   ]
  },
  {
   "cell_type": "code",
   "execution_count": null,
   "id": "c287f996",
   "metadata": {},
   "outputs": [],
   "source": []
  }
 ],
 "metadata": {
  "kernelspec": {
   "display_name": "Python 3 (ipykernel)",
   "language": "python",
   "name": "python3"
  },
  "language_info": {
   "codemirror_mode": {
    "name": "ipython",
    "version": 3
   },
   "file_extension": ".py",
   "mimetype": "text/x-python",
   "name": "python",
   "nbconvert_exporter": "python",
   "pygments_lexer": "ipython3",
   "version": "3.9.7"
  }
 },
 "nbformat": 4,
 "nbformat_minor": 5
}
